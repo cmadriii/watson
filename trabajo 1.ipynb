{
    "cells": [
        {
            "cell_type": "markdown",
            "metadata": {
                "collapsed": true
            },
            "source": "# My Jupyter Notebook on IBM Watson Studio"
        },
        {
            "cell_type": "markdown",
            "metadata": {},
            "source": "**Camilo Madri\u00f1an**"
        },
        {
            "cell_type": "markdown",
            "metadata": {},
            "source": "*I am interested in data science because I Want to learn more about this beautiful enviroment.*"
        },
        {
            "cell_type": "markdown",
            "metadata": {},
            "source": "### Representacion de descripcion en codigo de prueba"
        },
        {
            "cell_type": "code",
            "execution_count": 2,
            "metadata": {},
            "outputs": [
                {
                    "data": {
                        "text/plain": "2"
                    },
                    "execution_count": 2,
                    "metadata": {},
                    "output_type": "execute_result"
                }
            ],
            "source": "1 + 1"
        },
        {
            "cell_type": "markdown",
            "metadata": {},
            "source": "- Caso 1\n- Caso 2\n- Caso 3\n \n \n 1. Ejemplo 1\n 2. Ejemplo 2\n 3. Ejemplo 3\n \n| Nombre| Edad | Pais |\n| --- | --- | --- |\n| Camilo | 37 | Colombia |\n| Noah | 4 | USA |\n| Milena | 39 | Colombia |\n\n\n "
        },
        {
            "cell_type": "code",
            "execution_count": null,
            "metadata": {},
            "outputs": [],
            "source": ""
        }
    ],
    "metadata": {
        "kernelspec": {
            "display_name": "Python 3.10",
            "language": "python",
            "name": "python3"
        },
        "language_info": {
            "codemirror_mode": {
                "name": "ipython",
                "version": 3
            },
            "file_extension": ".py",
            "mimetype": "text/x-python",
            "name": "python",
            "nbconvert_exporter": "python",
            "pygments_lexer": "ipython3",
            "version": "3.10.13"
        }
    },
    "nbformat": 4,
    "nbformat_minor": 1
}